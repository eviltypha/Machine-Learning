{
 "cells": [
  {
   "cell_type": "markdown",
   "id": "f33319f6",
   "metadata": {},
   "source": [
    "## Neural Networks"
   ]
  },
  {
   "cell_type": "code",
   "execution_count": 1,
   "id": "78211959",
   "metadata": {},
   "outputs": [],
   "source": [
    "import keras\n",
    "from keras.datasets import mnist\n",
    "from keras.models import Sequential\n",
    "from keras.layers import Dense, Dropout, Flatten\n",
    "from keras.layers import Conv2D, MaxPooling2D\n",
    "from keras import backend as K\n",
    "from keras.utils import np_utils"
   ]
  },
  {
   "cell_type": "code",
   "execution_count": 2,
   "id": "173bb0b1",
   "metadata": {},
   "outputs": [
    {
     "name": "stdout",
     "output_type": "stream",
     "text": [
      "(60000, 28, 28) (60000,)\n"
     ]
    }
   ],
   "source": [
    "(x_train, y_train), (x_test, y_test) = mnist.load_data()\n",
    "\n",
    "print(x_train.shape, y_train.shape)"
   ]
  },
  {
   "cell_type": "code",
   "execution_count": 3,
   "id": "eb80777c",
   "metadata": {},
   "outputs": [
    {
     "name": "stdout",
     "output_type": "stream",
     "text": [
      "x_train shape: (60000, 28, 28, 1)\n",
      "60000 train samples\n",
      "10000 test samples\n"
     ]
    }
   ],
   "source": [
    "x_train = x_train.reshape(x_train.shape[0], 28, 28, 1)\n",
    "x_test = x_test.reshape(x_test.shape[0], 28, 28, 1)\n",
    "input_shape = (28, 28, 1)\n",
    "batch_size = 128\n",
    "num_classes = 10\n",
    "epochs = 10\n",
    "\n",
    "y_train = np_utils.to_categorical(y_train, num_classes)\n",
    "y_test = np_utils.to_categorical(y_test, num_classes)\n",
    "x_train = x_train.astype('float32')\n",
    "x_test = x_test.astype('float32')\n",
    "x_train /= 255\n",
    "x_test /= 255\n",
    "print('x_train shape:', x_train.shape)\n",
    "print(x_train.shape[0], 'train samples')\n",
    "print(x_test.shape[0], 'test samples')"
   ]
  },
  {
   "cell_type": "code",
   "execution_count": 4,
   "id": "5be1accc",
   "metadata": {},
   "outputs": [],
   "source": [
    "model = Sequential()\n",
    "model.add(Conv2D(32, kernel_size=(3, 3),activation='relu',input_shape=input_shape))\n",
    "model.add(Conv2D(64, (3, 3), activation='relu'))\n",
    "model.add(MaxPooling2D(pool_size=(2, 2)))\n",
    "model.add(Dropout(0.25))\n",
    "model.add(Flatten())\n",
    "model.add(Dense(256, activation='relu'))\n",
    "model.add(Dropout(0.5))\n",
    "model.add(Dense(num_classes, activation='softmax'))\n",
    "model.compile(loss=keras.losses.categorical_crossentropy,optimizer=keras.optimizers.Adadelta(),metrics=['accuracy'])"
   ]
  },
  {
   "cell_type": "code",
   "execution_count": 5,
   "id": "4e949d24",
   "metadata": {},
   "outputs": [
    {
     "name": "stdout",
     "output_type": "stream",
     "text": [
      "Epoch 1/10\n",
      "469/469 [==============================] - 202s 401ms/step - loss: 2.2936 - accuracy: 0.1189 - val_loss: 2.2427 - val_accuracy: 0.3214\n",
      "Epoch 2/10\n",
      "469/469 [==============================] - 340s 726ms/step - loss: 2.2347 - accuracy: 0.2470 - val_loss: 2.1624 - val_accuracy: 0.5792\n",
      "Epoch 3/10\n",
      "469/469 [==============================] - 321s 685ms/step - loss: 2.1560 - accuracy: 0.3906 - val_loss: 2.0478 - val_accuracy: 0.6633\n",
      "Epoch 4/10\n",
      "469/469 [==============================] - 297s 633ms/step - loss: 2.0413 - accuracy: 0.4950 - val_loss: 1.8808 - val_accuracy: 0.7101\n",
      "Epoch 5/10\n",
      "469/469 [==============================] - 501s 1s/step - loss: 1.8761 - accuracy: 0.5686 - val_loss: 1.6537 - val_accuracy: 0.7517\n",
      "Epoch 6/10\n",
      "469/469 [==============================] - 401s 855ms/step - loss: 1.6648 - accuracy: 0.6139 - val_loss: 1.3938 - val_accuracy: 0.7801\n",
      "Epoch 7/10\n",
      "469/469 [==============================] - 140s 298ms/step - loss: 1.4406 - accuracy: 0.6523 - val_loss: 1.1499 - val_accuracy: 0.8026\n",
      "Epoch 8/10\n",
      "469/469 [==============================] - 137s 293ms/step - loss: 1.2363 - accuracy: 0.6820 - val_loss: 0.9574 - val_accuracy: 0.8200\n",
      "Epoch 9/10\n",
      "469/469 [==============================] - 143s 305ms/step - loss: 1.0810 - accuracy: 0.7057 - val_loss: 0.8182 - val_accuracy: 0.8306\n",
      "Epoch 10/10\n",
      "469/469 [==============================] - 141s 301ms/step - loss: 0.9617 - accuracy: 0.7293 - val_loss: 0.7176 - val_accuracy: 0.8418\n",
      "The model has successfully trained\n"
     ]
    }
   ],
   "source": [
    "hist = model.fit(x_train, y_train,batch_size=batch_size,epochs=epochs,verbose=1,validation_data=(x_test, y_test))\n",
    "print(\"The model has successfully trained\")"
   ]
  },
  {
   "cell_type": "code",
   "execution_count": 6,
   "id": "15cd04e7",
   "metadata": {},
   "outputs": [
    {
     "name": "stdout",
     "output_type": "stream",
     "text": [
      "Test loss: 0.7176161408424377\n",
      "Test accuracy: 0.8417999744415283\n"
     ]
    }
   ],
   "source": [
    "score = model.evaluate(x_test, y_test, verbose=0)\n",
    "print('Test loss:', score[0])\n",
    "print('Test accuracy:', score[1])"
   ]
  },
  {
   "cell_type": "code",
   "execution_count": null,
   "id": "b45dc670",
   "metadata": {},
   "outputs": [],
   "source": []
  }
 ],
 "metadata": {
  "kernelspec": {
   "display_name": "Python 3",
   "language": "python",
   "name": "python3"
  },
  "language_info": {
   "codemirror_mode": {
    "name": "ipython",
    "version": 3
   },
   "file_extension": ".py",
   "mimetype": "text/x-python",
   "name": "python",
   "nbconvert_exporter": "python",
   "pygments_lexer": "ipython3",
   "version": "3.9.4"
  }
 },
 "nbformat": 4,
 "nbformat_minor": 5
}
